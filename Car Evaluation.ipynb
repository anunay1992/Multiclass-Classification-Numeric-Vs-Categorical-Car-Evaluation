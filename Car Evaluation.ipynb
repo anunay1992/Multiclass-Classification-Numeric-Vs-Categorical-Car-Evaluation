{
 "cells": [
  {
   "cell_type": "markdown",
   "metadata": {},
   "source": [
    "# Importing libraries\n",
    "The necessary libraries needs to be imported in order to perform required analysis for further comparing the models of Decision tree, KNN, Logistic Regression and SVC."
   ]
  },
  {
   "cell_type": "code",
   "execution_count": 1,
   "metadata": {},
   "outputs": [],
   "source": [
    "import os\n",
    "from sklearn.tree import DecisionTreeClassifier\n",
    "from sklearn.neighbors import KNeighborsClassifier\n",
    "from sklearn.linear_model import LogisticRegression\n",
    "from sklearn.model_selection import cross_val_score, train_test_split, KFold, GridSearchCV\n",
    "from sklearn.metrics import accuracy_score, confusion_matrix, matthews_corrcoef,classification_report,roc_curve, auc\n",
    "from sklearn.svm import SVC\n",
    "from sklearn.metrics import f1_score\n",
    "from sklearn.preprocessing import Normalizer,MinMaxScaler\n",
    "from sklearn.naive_bayes import MultinomialNB\n",
    "import scikitplot as skplt\n",
    "import matplotlib.pyplot as plt\n",
    "import numpy as np\n",
    "import pandas as pd\n",
    "import matplotlib.pyplot as plt\n",
    "import warnings\n",
    "warnings.filterwarnings(\"ignore\")"
   ]
  },
  {
   "cell_type": "markdown",
   "metadata": {},
   "source": [
    "# Car Evaluation "
   ]
  },
  {
   "cell_type": "markdown",
   "metadata": {},
   "source": [
    "# Importing data"
   ]
  },
  {
   "cell_type": "code",
   "execution_count": 2,
   "metadata": {},
   "outputs": [],
   "source": [
    "col_names = ['buying', 'maint', 'doors', 'persons', 'lug_boot', 'safety', 'acceptability']\n",
    "cardata = pd.read_csv('car.data', names = col_names)"
   ]
  },
  {
   "cell_type": "code",
   "execution_count": 4,
   "metadata": {},
   "outputs": [
    {
     "data": {
      "text/html": [
       "<div>\n",
       "<style scoped>\n",
       "    .dataframe tbody tr th:only-of-type {\n",
       "        vertical-align: middle;\n",
       "    }\n",
       "\n",
       "    .dataframe tbody tr th {\n",
       "        vertical-align: top;\n",
       "    }\n",
       "\n",
       "    .dataframe thead th {\n",
       "        text-align: right;\n",
       "    }\n",
       "</style>\n",
       "<table border=\"1\" class=\"dataframe\">\n",
       "  <thead>\n",
       "    <tr style=\"text-align: right;\">\n",
       "      <th></th>\n",
       "      <th>buying</th>\n",
       "      <th>maint</th>\n",
       "      <th>doors</th>\n",
       "      <th>persons</th>\n",
       "      <th>lug_boot</th>\n",
       "      <th>safety</th>\n",
       "      <th>acceptability</th>\n",
       "    </tr>\n",
       "  </thead>\n",
       "  <tbody>\n",
       "    <tr>\n",
       "      <td>0</td>\n",
       "      <td>vhigh</td>\n",
       "      <td>vhigh</td>\n",
       "      <td>2</td>\n",
       "      <td>2</td>\n",
       "      <td>small</td>\n",
       "      <td>low</td>\n",
       "      <td>unacc</td>\n",
       "    </tr>\n",
       "    <tr>\n",
       "      <td>1</td>\n",
       "      <td>vhigh</td>\n",
       "      <td>vhigh</td>\n",
       "      <td>2</td>\n",
       "      <td>2</td>\n",
       "      <td>small</td>\n",
       "      <td>med</td>\n",
       "      <td>unacc</td>\n",
       "    </tr>\n",
       "    <tr>\n",
       "      <td>2</td>\n",
       "      <td>vhigh</td>\n",
       "      <td>vhigh</td>\n",
       "      <td>2</td>\n",
       "      <td>2</td>\n",
       "      <td>small</td>\n",
       "      <td>high</td>\n",
       "      <td>unacc</td>\n",
       "    </tr>\n",
       "    <tr>\n",
       "      <td>3</td>\n",
       "      <td>vhigh</td>\n",
       "      <td>vhigh</td>\n",
       "      <td>2</td>\n",
       "      <td>2</td>\n",
       "      <td>med</td>\n",
       "      <td>low</td>\n",
       "      <td>unacc</td>\n",
       "    </tr>\n",
       "    <tr>\n",
       "      <td>4</td>\n",
       "      <td>vhigh</td>\n",
       "      <td>vhigh</td>\n",
       "      <td>2</td>\n",
       "      <td>2</td>\n",
       "      <td>med</td>\n",
       "      <td>med</td>\n",
       "      <td>unacc</td>\n",
       "    </tr>\n",
       "  </tbody>\n",
       "</table>\n",
       "</div>"
      ],
      "text/plain": [
       "  buying  maint doors persons lug_boot safety acceptability\n",
       "0  vhigh  vhigh     2       2    small    low         unacc\n",
       "1  vhigh  vhigh     2       2    small    med         unacc\n",
       "2  vhigh  vhigh     2       2    small   high         unacc\n",
       "3  vhigh  vhigh     2       2      med    low         unacc\n",
       "4  vhigh  vhigh     2       2      med    med         unacc"
      ]
     },
     "execution_count": 4,
     "metadata": {},
     "output_type": "execute_result"
    }
   ],
   "source": [
    "cardata.head()"
   ]
  },
  {
   "cell_type": "markdown",
   "metadata": {},
   "source": [
    "# Taking Car Data as Numeric"
   ]
  },
  {
   "cell_type": "markdown",
   "metadata": {},
   "source": [
    "# Data tranformation"
   ]
  },
  {
   "cell_type": "code",
   "execution_count": 6,
   "metadata": {},
   "outputs": [],
   "source": [
    "cardata['buying'] = cardata['buying'].replace('vhigh', 3)\n",
    "cardata['buying'] = cardata['buying'].replace('high', 2)\n",
    "cardata['buying'] = cardata['buying'].replace('med', 1)\n",
    "cardata['buying'] = cardata['buying'].replace('low', 0)\n",
    "cardata['maint'] = cardata['maint'].replace('vhigh', 3)\n",
    "cardata['maint'] = cardata['maint'].replace('high', 2)\n",
    "cardata['maint'] = cardata['maint'].replace('med', 1)\n",
    "cardata['maint'] = cardata['maint'].replace('low', 0)\n",
    "cardata['doors'] = cardata['doors'].replace('5more', 3)\n",
    "cardata['doors'] = cardata['doors'].replace('4', 2)\n",
    "cardata['doors'] = cardata['doors'].replace('3', 1)\n",
    "cardata['doors'] = cardata['doors'].replace('2', 0)\n",
    "cardata['persons'] = cardata['persons'].replace('more', 2)\n",
    "cardata['persons'] = cardata['persons'].replace('4', 1)\n",
    "cardata['persons'] = cardata['persons'].replace('2', 0)\n",
    "cardata['lug_boot'] = cardata['lug_boot'].replace('big', 2)\n",
    "cardata['lug_boot'] = cardata['lug_boot'].replace('med', 1)\n",
    "cardata['lug_boot'] = cardata['lug_boot'].replace('small', 0)\n",
    "cardata['safety'] = cardata['safety'].replace('high', 2)\n",
    "cardata['safety'] = cardata['safety'].replace('med', 1)\n",
    "cardata['safety'] = cardata['safety'].replace('low', 0)\n",
    "cardata['acceptability'] = cardata['acceptability'].replace('vgood', 3)\n",
    "cardata['acceptability'] = cardata['acceptability'].replace('good', 2)\n",
    "cardata['acceptability'] = cardata['acceptability'].replace('acc', 1)\n",
    "cardata['acceptability'] = cardata['acceptability'].replace('unacc', 0)"
   ]
  },
  {
   "cell_type": "code",
   "execution_count": 7,
   "metadata": {},
   "outputs": [
    {
     "data": {
      "text/html": [
       "<div>\n",
       "<style scoped>\n",
       "    .dataframe tbody tr th:only-of-type {\n",
       "        vertical-align: middle;\n",
       "    }\n",
       "\n",
       "    .dataframe tbody tr th {\n",
       "        vertical-align: top;\n",
       "    }\n",
       "\n",
       "    .dataframe thead th {\n",
       "        text-align: right;\n",
       "    }\n",
       "</style>\n",
       "<table border=\"1\" class=\"dataframe\">\n",
       "  <thead>\n",
       "    <tr style=\"text-align: right;\">\n",
       "      <th></th>\n",
       "      <th>buying</th>\n",
       "      <th>maint</th>\n",
       "      <th>doors</th>\n",
       "      <th>persons</th>\n",
       "      <th>lug_boot</th>\n",
       "      <th>safety</th>\n",
       "      <th>acceptability</th>\n",
       "    </tr>\n",
       "  </thead>\n",
       "  <tbody>\n",
       "    <tr>\n",
       "      <td>0</td>\n",
       "      <td>3</td>\n",
       "      <td>3</td>\n",
       "      <td>0</td>\n",
       "      <td>0</td>\n",
       "      <td>0</td>\n",
       "      <td>0</td>\n",
       "      <td>0</td>\n",
       "    </tr>\n",
       "    <tr>\n",
       "      <td>1</td>\n",
       "      <td>3</td>\n",
       "      <td>3</td>\n",
       "      <td>0</td>\n",
       "      <td>0</td>\n",
       "      <td>0</td>\n",
       "      <td>1</td>\n",
       "      <td>0</td>\n",
       "    </tr>\n",
       "    <tr>\n",
       "      <td>2</td>\n",
       "      <td>3</td>\n",
       "      <td>3</td>\n",
       "      <td>0</td>\n",
       "      <td>0</td>\n",
       "      <td>0</td>\n",
       "      <td>2</td>\n",
       "      <td>0</td>\n",
       "    </tr>\n",
       "    <tr>\n",
       "      <td>3</td>\n",
       "      <td>3</td>\n",
       "      <td>3</td>\n",
       "      <td>0</td>\n",
       "      <td>0</td>\n",
       "      <td>1</td>\n",
       "      <td>0</td>\n",
       "      <td>0</td>\n",
       "    </tr>\n",
       "    <tr>\n",
       "      <td>4</td>\n",
       "      <td>3</td>\n",
       "      <td>3</td>\n",
       "      <td>0</td>\n",
       "      <td>0</td>\n",
       "      <td>1</td>\n",
       "      <td>1</td>\n",
       "      <td>0</td>\n",
       "    </tr>\n",
       "  </tbody>\n",
       "</table>\n",
       "</div>"
      ],
      "text/plain": [
       "   buying  maint  doors  persons  lug_boot  safety  acceptability\n",
       "0       3      3      0        0         0       0              0\n",
       "1       3      3      0        0         0       1              0\n",
       "2       3      3      0        0         0       2              0\n",
       "3       3      3      0        0         1       0              0\n",
       "4       3      3      0        0         1       1              0"
      ]
     },
     "execution_count": 7,
     "metadata": {},
     "output_type": "execute_result"
    }
   ],
   "source": [
    "cardata.head()"
   ]
  },
  {
   "cell_type": "markdown",
   "metadata": {},
   "source": [
    "# Segmenting target and predictor data\n",
    "Segmented the dataset in target data and predictor data. Here the target data is column \"acceptability\" and predictor data consist all other columns."
   ]
  },
  {
   "cell_type": "code",
   "execution_count": 8,
   "metadata": {},
   "outputs": [],
   "source": [
    "X = cardata.drop(['acceptability'], axis = 'columns')\n",
    "Y = cardata['acceptability']"
   ]
  },
  {
   "cell_type": "code",
   "execution_count": 9,
   "metadata": {},
   "outputs": [
    {
     "data": {
      "text/html": [
       "<div>\n",
       "<style scoped>\n",
       "    .dataframe tbody tr th:only-of-type {\n",
       "        vertical-align: middle;\n",
       "    }\n",
       "\n",
       "    .dataframe tbody tr th {\n",
       "        vertical-align: top;\n",
       "    }\n",
       "\n",
       "    .dataframe thead th {\n",
       "        text-align: right;\n",
       "    }\n",
       "</style>\n",
       "<table border=\"1\" class=\"dataframe\">\n",
       "  <thead>\n",
       "    <tr style=\"text-align: right;\">\n",
       "      <th></th>\n",
       "      <th>buying</th>\n",
       "      <th>maint</th>\n",
       "      <th>doors</th>\n",
       "      <th>persons</th>\n",
       "      <th>lug_boot</th>\n",
       "      <th>safety</th>\n",
       "    </tr>\n",
       "  </thead>\n",
       "  <tbody>\n",
       "    <tr>\n",
       "      <td>0</td>\n",
       "      <td>3</td>\n",
       "      <td>3</td>\n",
       "      <td>0</td>\n",
       "      <td>0</td>\n",
       "      <td>0</td>\n",
       "      <td>0</td>\n",
       "    </tr>\n",
       "    <tr>\n",
       "      <td>1</td>\n",
       "      <td>3</td>\n",
       "      <td>3</td>\n",
       "      <td>0</td>\n",
       "      <td>0</td>\n",
       "      <td>0</td>\n",
       "      <td>1</td>\n",
       "    </tr>\n",
       "    <tr>\n",
       "      <td>2</td>\n",
       "      <td>3</td>\n",
       "      <td>3</td>\n",
       "      <td>0</td>\n",
       "      <td>0</td>\n",
       "      <td>0</td>\n",
       "      <td>2</td>\n",
       "    </tr>\n",
       "    <tr>\n",
       "      <td>3</td>\n",
       "      <td>3</td>\n",
       "      <td>3</td>\n",
       "      <td>0</td>\n",
       "      <td>0</td>\n",
       "      <td>1</td>\n",
       "      <td>0</td>\n",
       "    </tr>\n",
       "    <tr>\n",
       "      <td>4</td>\n",
       "      <td>3</td>\n",
       "      <td>3</td>\n",
       "      <td>0</td>\n",
       "      <td>0</td>\n",
       "      <td>1</td>\n",
       "      <td>1</td>\n",
       "    </tr>\n",
       "  </tbody>\n",
       "</table>\n",
       "</div>"
      ],
      "text/plain": [
       "   buying  maint  doors  persons  lug_boot  safety\n",
       "0       3      3      0        0         0       0\n",
       "1       3      3      0        0         0       1\n",
       "2       3      3      0        0         0       2\n",
       "3       3      3      0        0         1       0\n",
       "4       3      3      0        0         1       1"
      ]
     },
     "execution_count": 9,
     "metadata": {},
     "output_type": "execute_result"
    }
   ],
   "source": [
    "X.head()"
   ]
  },
  {
   "cell_type": "code",
   "execution_count": 10,
   "metadata": {},
   "outputs": [
    {
     "data": {
      "text/plain": [
       "0    0\n",
       "1    0\n",
       "2    0\n",
       "3    0\n",
       "4    0\n",
       "Name: acceptability, dtype: int64"
      ]
     },
     "execution_count": 10,
     "metadata": {},
     "output_type": "execute_result"
    }
   ],
   "source": [
    "Y.head()"
   ]
  },
  {
   "cell_type": "markdown",
   "metadata": {},
   "source": [
    "# Spliting target and predictor data into training and testing \n",
    "Splitted the target data and predictor data into training and testing, with 67 % data as training and 33 % as testing. "
   ]
  },
  {
   "cell_type": "code",
   "execution_count": 196,
   "metadata": {},
   "outputs": [],
   "source": [
    "from sklearn.model_selection import train_test_split\n",
    "X_train, X_test, Y_train, Y_test = train_test_split(X, Y, test_size = 0.33)"
   ]
  },
  {
   "cell_type": "markdown",
   "metadata": {},
   "source": [
    "# Scaling the data using MinMaxScaler\n",
    "The data is scaled using MinMaxScaler on a range of 0 to 1.This process is same for all models. Although Decision Tree model doesn't require data to be scaled but for keeping the dataset uniform and on same scale for all models the same scaled data is used for Decision Tree model as well. "
   ]
  },
  {
   "cell_type": "code",
   "execution_count": 197,
   "metadata": {},
   "outputs": [],
   "source": [
    "from sklearn.preprocessing import MinMaxScaler\n",
    "scaler = MinMaxScaler()\n",
    "scaler.fit(X_train)\n",
    "X_train_scaled = scaler.transform(X_train)\n",
    "X_test_scaled = scaler.transform(X_test)"
   ]
  },
  {
   "cell_type": "markdown",
   "metadata": {},
   "source": [
    "# Decision Tree"
   ]
  },
  {
   "cell_type": "markdown",
   "metadata": {},
   "source": [
    "## Finding Best hyperparameters\n",
    "The parameters used are \"max_depth\" in the range of 1 to 30, \"criterion\" either entropy or gini, 'min_samples_leaf' in the range of 1 to 30. GridsearchCV function takes the classifier and all values of parameters and gives the best value for each parameter after a certain no. of iterations which is in our case taken as 10 (cv = 10). The best paramters with the best score on training data are printed after the following code. "
   ]
  },
  {
   "cell_type": "code",
   "execution_count": 198,
   "metadata": {},
   "outputs": [
    {
     "name": "stdout",
     "output_type": "stream",
     "text": [
      "\u001b[1mBest Hyperparamters:\u001b[0;0m {'criterion': 'entropy', 'max_depth': 22, 'min_samples_leaf': 1}\n",
      "\u001b[1mBest Score:\u001b[0;0m 0.9732065687121867\n"
     ]
    }
   ],
   "source": [
    "clf = DecisionTreeClassifier()\n",
    "p_grid = {\"max_depth\": list(range(1,30)), \"criterion\" : ['entropy','gini'], 'min_samples_leaf' : list(range(1,30))}\n",
    "grid = GridSearchCV(estimator = clf, param_grid = p_grid, cv = 10)\n",
    "grid.fit(X_train_scaled, Y_train)\n",
    "finalparam = grid.best_params_\n",
    "print('\\033[1m' + 'Best Hyperparamters:' + \"\\033[0;0m\", grid.best_params_ )\n",
    "print('\\033[1m' + 'Best Score:' + \"\\033[0;0m\", grid.best_score_)"
   ]
  },
  {
   "cell_type": "markdown",
   "metadata": {},
   "source": [
    "## Using the best hyperparameters in building the final model.\n",
    "The final model is build by using the best parameters generated using gridsearch. Below is the summary of the model."
   ]
  },
  {
   "cell_type": "code",
   "execution_count": 199,
   "metadata": {},
   "outputs": [
    {
     "name": "stdout",
     "output_type": "stream",
     "text": [
      "\u001b[1mGOODNESS OF MODEL\u001b[0;0m\n",
      "\u001b[1mAccuracy:\u001b[0;0m 0.9859894921190894\n",
      "**************************************************\n",
      "[0.95726496 0.98290598 0.93965517 0.97413793 0.99137931 0.96521739\n",
      " 0.9826087  0.99130435 0.96521739 0.95652174]\n",
      "**************************************************\n",
      "\u001b[1mcv Score:\u001b[0;0m 0.97 (+/- 0.04)\n",
      "**************************************************\n",
      "              precision    recall  f1-score   support\n",
      "\n",
      "           0       1.00      1.00      1.00       410\n",
      "           1       0.98      0.96      0.97       124\n",
      "           2       0.83      0.88      0.86        17\n",
      "           3       1.00      1.00      1.00        20\n",
      "\n",
      "    accuracy                           0.99       571\n",
      "   macro avg       0.95      0.96      0.96       571\n",
      "weighted avg       0.99      0.99      0.99       571\n",
      "\n",
      "**************************************************\n",
      "\u001b[1mConfusion Matrix\n",
      "\u001b[0;0m [[409   1   0   0]\n",
      " [  2 119   3   0]\n",
      " [  0   2  15   0]\n",
      " [  0   0   0  20]]\n",
      "**************************************************\n",
      "\u001b[1mMatthews Corrcoef\u001b[0;0m 0.9677834849752319\n"
     ]
    }
   ],
   "source": [
    "classifier_d = DecisionTreeClassifier(criterion = finalparam['criterion'],\n",
    "                                      max_depth = finalparam['max_depth'],\n",
    "                                      min_samples_leaf = finalparam['min_samples_leaf'])\n",
    "classifier_d.fit(X_train_scaled, Y_train)\n",
    "print('\\033[1m' + \"GOODNESS OF MODEL\" + \"\\033[0;0m\")\n",
    "print('\\033[1m' + \"Accuracy:\" + \"\\033[0;0m\", accuracy_score(Y_test, classifier_d.predict(X_test_scaled)))\n",
    "print('*' * 50)\n",
    "print(cross_val_score(classifier_d, X_train_scaled, Y_train, cv = 10, scoring = 'accuracy'))\n",
    "print('*' * 50)\n",
    "print('\\033[1m' + \"cv Score:\" + \"\\033[0;0m\"\" %0.2f (+/- %0.2f)\" % (cross_val_score(classifier_d,\n",
    "                                                                                   X_train_scaled, Y_train,\n",
    "                                                       cv=10, scoring = 'accuracy').mean(),\n",
    "                                       cross_val_score(classifier_d, X_train_scaled, Y_train,\n",
    "                                                       cv=10, scoring = 'accuracy').std() * 2))\n",
    "print('*' * 50)\n",
    "print(classification_report(Y_test, classifier_d.predict(X_test_scaled)))\n",
    "print('*' * 50)\n",
    "print('\\033[1m' + 'Confusion Matrix\\n' + \"\\033[0;0m\", confusion_matrix(Y_test, classifier_d.predict(X_test_scaled)))\n",
    "print('*' * 50)\n",
    "print('\\033[1m' + 'Matthews Corrcoef' + \"\\033[0;0m\", matthews_corrcoef(Y_test, classifier_d.predict(X_test_scaled)))"
   ]
  },
  {
   "cell_type": "markdown",
   "metadata": {},
   "source": [
    "# KNN"
   ]
  },
  {
   "cell_type": "markdown",
   "metadata": {},
   "source": [
    "## Finding Best hyperparameters\n",
    "The parameters used are \"n_neighbors\" in the range of 1 to 30, \"weights\" either entropy or gini. GridsearchCV function takes the classifier and all values of parameters and gives the best value for each parameter after a certain no. of iterations which is in our case taken as 10 (cv = 10). The best paramters with the best score on training data are printed after the following code. "
   ]
  },
  {
   "cell_type": "code",
   "execution_count": 200,
   "metadata": {},
   "outputs": [
    {
     "name": "stdout",
     "output_type": "stream",
     "text": [
      "\u001b[1mBest Hyperparamters:\u001b[0;0m {'n_neighbors': 13, 'weights': 'distance'}\n",
      "\u001b[1mBest Score:\u001b[0;0m 0.9515989628349178\n"
     ]
    }
   ],
   "source": [
    "clf = KNeighborsClassifier()\n",
    "p_grid = {'weights':[\"uniform\", \"distance\"], 'n_neighbors' : list(range(1,30))}\n",
    "grid = GridSearchCV(estimator = clf, param_grid = p_grid, cv = 10)\n",
    "grid.fit(X_train_scaled, Y_train)\n",
    "finalparam = grid.best_params_\n",
    "print('\\033[1m' + 'Best Hyperparamters:' + \"\\033[0;0m\", grid.best_params_ )\n",
    "print('\\033[1m' + 'Best Score:' + \"\\033[0;0m\", grid.best_score_)"
   ]
  },
  {
   "cell_type": "markdown",
   "metadata": {},
   "source": [
    "## Using the best hyperparameters in building the final model.\n",
    "The final model is build by using the best parameters generated using gridsearch. Below is the summary of the model."
   ]
  },
  {
   "cell_type": "code",
   "execution_count": 201,
   "metadata": {},
   "outputs": [
    {
     "name": "stdout",
     "output_type": "stream",
     "text": [
      "\u001b[1mGOODNESS OF MODEL\u001b[0;0m\n",
      "\u001b[1mAccuracy :\u001b[0;0m 0.9562171628721541\n",
      "**************************************************\n",
      "[0.93162393 0.95726496 0.94827586 0.95689655 0.93103448 0.9826087\n",
      " 0.97391304 0.95652174 0.93043478 0.94782609]\n",
      "**************************************************\n",
      "\u001b[1mcv Score:\u001b[0;0m 0.95 (+/- 0.03)\n",
      "**************************************************\n",
      "              precision    recall  f1-score   support\n",
      "\n",
      "           0       0.98      0.98      0.98       410\n",
      "           1       0.88      0.93      0.91       124\n",
      "           2       0.87      0.76      0.81        17\n",
      "           3       0.94      0.80      0.86        20\n",
      "\n",
      "    accuracy                           0.96       571\n",
      "   macro avg       0.92      0.87      0.89       571\n",
      "weighted avg       0.96      0.96      0.96       571\n",
      "\n",
      "**************************************************\n",
      "\u001b[1mConfusion Matrix\n",
      "\u001b[0;0m [[402   8   0   0]\n",
      " [  7 115   2   0]\n",
      " [  0   3  13   1]\n",
      " [  0   4   0  16]]\n",
      "**************************************************\n",
      "\u001b[1mMatthews Corrcoef\u001b[0;0m 0.8993737986474379\n"
     ]
    }
   ],
   "source": [
    "classifier_k = KNeighborsClassifier(n_neighbors= finalparam['n_neighbors'], weights= finalparam['weights'])\n",
    "classifier_k.fit(X_train_scaled, Y_train)\n",
    "print('\\033[1m' + \"GOODNESS OF MODEL\" + \"\\033[0;0m\")\n",
    "print('\\033[1m' + \"Accuracy :\" + \"\\033[0;0m\", accuracy_score(Y_test, classifier_k.predict(X_test_scaled)))\n",
    "print('*' * 50)\n",
    "print(cross_val_score(classifier_k, X_train_scaled, Y_train, cv=10, scoring = 'accuracy'))\n",
    "print('*' * 50)\n",
    "print('\\033[1m' + \"cv Score:\" + \"\\033[0;0m\"\" %0.2f (+/- %0.2f)\" % (cross_val_score(classifier_k,\n",
    "                                                                                   X_train_scaled, Y_train,\n",
    "                                                       cv=10, scoring = 'accuracy').mean(),\n",
    "                                       cross_val_score(classifier_k, X_train_scaled, Y_train,\n",
    "                                                       cv=10, scoring = 'accuracy').std() * 2))\n",
    "print('*' * 50)\n",
    "print(classification_report(Y_test, classifier_k.predict(X_test_scaled)))\n",
    "print('*' * 50)\n",
    "print('\\033[1m' + 'Confusion Matrix\\n' + \"\\033[0;0m\", confusion_matrix(Y_test, classifier_k.predict(X_test_scaled)))\n",
    "print('*' * 50)\n",
    "print('\\033[1m' + 'Matthews Corrcoef' + \"\\033[0;0m\", matthews_corrcoef(Y_test, classifier_k.predict(X_test_scaled)))"
   ]
  },
  {
   "cell_type": "markdown",
   "metadata": {},
   "source": [
    "# Logistic Regression"
   ]
  },
  {
   "cell_type": "markdown",
   "metadata": {},
   "source": [
    "## Finding Best hyperparameters\n",
    "The parameters used are \"C\" in the range of 1 to 30, \"penalty\" either l1 or l2. GridsearchCV function takes the classifier and all values of parameters and gives the best value for each parameter after a certain no. of iterations which is in our case taken as 10 (cv = 10). The best paramters with the best score on training data are printed after the following code."
   ]
  },
  {
   "cell_type": "code",
   "execution_count": 202,
   "metadata": {},
   "outputs": [
    {
     "name": "stdout",
     "output_type": "stream",
     "text": [
      "\u001b[1mBest Hyperparamters:\u001b[0;0m {'C': 9, 'penalty': 'l1'}\n",
      "\u001b[1mBest Score:\u001b[0;0m 0.7960242005185826\n"
     ]
    }
   ],
   "source": [
    "clf = LogisticRegression()\n",
    "p_grid = {'penalty':[\"l1\", \"l2\"], 'C' : list(range(1,30))}\n",
    "grid = GridSearchCV(estimator = clf, param_grid = p_grid, cv = 10)\n",
    "grid.fit(X_train_scaled, Y_train)\n",
    "finalparam = grid.best_params_\n",
    "print('\\033[1m' + 'Best Hyperparamters:' + \"\\033[0;0m\", grid.best_params_ )\n",
    "print('\\033[1m' + 'Best Score:' + \"\\033[0;0m\", grid.best_score_)"
   ]
  },
  {
   "cell_type": "markdown",
   "metadata": {},
   "source": [
    "## Using the best hyperparameters in building the final model.\n",
    "The final model is build by using the best parameters generated using gridsearch. Below is the summary of the model."
   ]
  },
  {
   "cell_type": "code",
   "execution_count": 203,
   "metadata": {},
   "outputs": [
    {
     "name": "stdout",
     "output_type": "stream",
     "text": [
      "\u001b[1mGOODNESS OF MODEL\u001b[0;0m\n",
      "\u001b[1mAccuracy :\u001b[0;0m 0.8371278458844134\n",
      "**************************************************\n",
      "[0.84615385 0.8034188  0.82758621 0.82758621 0.76724138 0.73913043\n",
      " 0.80869565 0.7826087  0.75652174 0.8       ]\n",
      "**************************************************\n",
      "\u001b[1mcv Score:\u001b[0;0m 0.80 (+/- 0.06)\n",
      "**************************************************\n",
      "              precision    recall  f1-score   support\n",
      "\n",
      "           0       0.88      0.95      0.91       410\n",
      "           1       0.70      0.57      0.63       124\n",
      "           2       0.56      0.29      0.38        17\n",
      "           3       0.80      0.60      0.69        20\n",
      "\n",
      "    accuracy                           0.84       571\n",
      "   macro avg       0.73      0.60      0.65       571\n",
      "weighted avg       0.83      0.84      0.83       571\n",
      "\n",
      "**************************************************\n",
      "\u001b[1mConfusion Matrix\n",
      "\u001b[0;0m [[390  14   4   2]\n",
      " [ 53  71   0   0]\n",
      " [  2   9   5   1]\n",
      " [  0   8   0  12]]\n",
      "**************************************************\n",
      "\u001b[1mMatthews Corrcoef\u001b[0;0m 0.5998648716032966\n"
     ]
    }
   ],
   "source": [
    "classifier_l = LogisticRegression(C= finalparam['C'], penalty = finalparam['penalty'])\n",
    "classifier_l.fit(X_train_scaled, Y_train)\n",
    "print('\\033[1m' + \"GOODNESS OF MODEL\" + \"\\033[0;0m\")\n",
    "print('\\033[1m' + \"Accuracy :\" + \"\\033[0;0m\", accuracy_score(Y_test, classifier_l.predict(X_test_scaled)))\n",
    "print('*' * 50)\n",
    "print(cross_val_score(classifier_l, X_train_scaled, Y_train, cv=10, scoring = 'accuracy'))\n",
    "print('*' * 50)\n",
    "print('\\033[1m' + \"cv Score:\" + \"\\033[0;0m\"\" %0.2f (+/- %0.2f)\" % (cross_val_score(classifier_l,\n",
    "                                                                                   X_train_scaled, Y_train,\n",
    "                                                       cv=10, scoring = 'accuracy').mean(),\n",
    "                                       cross_val_score(classifier_l, X_train_scaled, Y_train,\n",
    "                                                       cv=10, scoring = 'accuracy').std() * 2))\n",
    "print('*' * 50)\n",
    "print(classification_report(Y_test, classifier_l.predict(X_test_scaled)))\n",
    "print('*' * 50)\n",
    "print('\\033[1m' + 'Confusion Matrix\\n' + \"\\033[0;0m\", confusion_matrix(Y_test, classifier_l.predict(X_test_scaled)))\n",
    "print('*' * 50)\n",
    "print('\\033[1m' + 'Matthews Corrcoef' + \"\\033[0;0m\", matthews_corrcoef(Y_test, classifier_l.predict(X_test_scaled)))"
   ]
  },
  {
   "cell_type": "markdown",
   "metadata": {},
   "source": [
    "# SVM"
   ]
  },
  {
   "cell_type": "markdown",
   "metadata": {},
   "source": [
    "## Finding Best hyperparameters\n",
    "The parameters used are \"C\" in the range of 1 to 30, \"gamma\" either auto or scale, 'degree' in the range of 1 to 30 and 'kernal' either linear or poly or rbf or sigmoid. GridsearchCV function takes the classifier and all values of parameters and gives the best value for each parameter after a certain no. of iterations which is in our case taken as 10 (cv = 10). The best paramters with the best score on training data are printed after the following code. "
   ]
  },
  {
   "cell_type": "code",
   "execution_count": 204,
   "metadata": {},
   "outputs": [
    {
     "name": "stdout",
     "output_type": "stream",
     "text": [
      "\u001b[1mBest Hyperparamters:\u001b[0;0m {'C': 5, 'degree': 3, 'gamma': 'scale', 'kernel': 'rbf'}\n",
      "\u001b[1mBest Score:\u001b[0;0m 0.9835782195332757\n"
     ]
    }
   ],
   "source": [
    "clf = SVC()\n",
    "p_grid = {'kernel':['linear', 'poly', 'rbf', 'sigmoid' ],\n",
    "          'C' : list(range(1,30)), 'degree': list(range(3,8)), 'gamma': ['auto', 'scale']}\n",
    "grid = GridSearchCV(estimator = clf, param_grid = p_grid, cv = 10)\n",
    "grid.fit(X_train_scaled, Y_train)\n",
    "finalparam = grid.best_params_\n",
    "print('\\033[1m' + 'Best Hyperparamters:' + \"\\033[0;0m\", grid.best_params_ )\n",
    "print('\\033[1m' + 'Best Score:' + \"\\033[0;0m\", grid.best_score_)"
   ]
  },
  {
   "cell_type": "markdown",
   "metadata": {},
   "source": [
    "## Using the best hyperparameters in building the final model.\n",
    "The final model is build by using the best parameters generated using gridsearch. Below is the summary of the model."
   ]
  },
  {
   "cell_type": "code",
   "execution_count": 205,
   "metadata": {},
   "outputs": [
    {
     "name": "stdout",
     "output_type": "stream",
     "text": [
      "\u001b[1mGOODNESS OF MODEL\u001b[0;0m\n",
      "\u001b[1mAccuracy :\u001b[0;0m 0.9877408056042032\n",
      "**************************************************\n",
      "[0.98290598 1.         0.94827586 0.96551724 0.99137931 0.99130435\n",
      " 0.99130435 1.         0.9826087  0.9826087 ]\n",
      "**************************************************\n",
      "\u001b[1mCV Score:\u001b[0;0m 0.98 (+/- 0.03)\n",
      "**************************************************\n",
      "              precision    recall  f1-score   support\n",
      "\n",
      "           0       1.00      0.99      1.00       410\n",
      "           1       0.98      0.98      0.98       124\n",
      "           2       0.88      0.88      0.88        17\n",
      "           3       0.91      1.00      0.95        20\n",
      "\n",
      "    accuracy                           0.99       571\n",
      "   macro avg       0.94      0.96      0.95       571\n",
      "weighted avg       0.99      0.99      0.99       571\n",
      "\n",
      "**************************************************\n",
      "\u001b[1mConfusion Matrix\n",
      "\u001b[0;0m [[407   3   0   0]\n",
      " [  0 122   2   0]\n",
      " [  0   0  15   2]\n",
      " [  0   0   0  20]]\n",
      "**************************************************\n",
      "\u001b[1mMatthews Corrcoef\u001b[0;0m 0.9721118948576152\n"
     ]
    }
   ],
   "source": [
    "classifier_S = SVC(kernel= finalparam['kernel'], C = finalparam['C'], degree = finalparam['degree'],\n",
    "                   gamma = finalparam['gamma'], probability = True)\n",
    "classifier_S.fit(X_train_scaled, Y_train)\n",
    "print('\\033[1m' + \"GOODNESS OF MODEL\" + \"\\033[0;0m\")\n",
    "print('\\033[1m' + \"Accuracy :\" + \"\\033[0;0m\", accuracy_score(Y_test, classifier_S.predict(X_test_scaled)))\n",
    "print('*' * 50)\n",
    "print(cross_val_score(classifier_S, X_train_scaled, Y_train, cv=10, scoring='accuracy'))\n",
    "print('*' * 50)\n",
    "print('\\033[1m' + \"CV Score:\" + \"\\033[0;0m\"\" %0.2f (+/- %0.2f)\" % (cross_val_score(classifier_S,\n",
    "                                                                                   X_train_scaled, Y_train,\n",
    "                                                       cv=10, scoring='accuracy').mean(),\n",
    "                                       cross_val_score(classifier_S, X_train_scaled, Y_train,\n",
    "                                                       cv=10, scoring='accuracy').std() * 2))\n",
    "print('*' * 50)\n",
    "print(classification_report(Y_test, classifier_S.predict(X_test_scaled)))\n",
    "print('*' * 50)\n",
    "print('\\033[1m' + 'Confusion Matrix\\n' + \"\\033[0;0m\", confusion_matrix(Y_test, classifier_S.predict(X_test_scaled)))\n",
    "print('*' * 50)\n",
    "print('\\033[1m' + 'Matthews Corrcoef' + \"\\033[0;0m\", matthews_corrcoef(Y_test, classifier_S.predict(X_test_scaled)))"
   ]
  },
  {
   "cell_type": "markdown",
   "metadata": {},
   "source": [
    "# Multinomial NB"
   ]
  },
  {
   "cell_type": "markdown",
   "metadata": {},
   "source": [
    "## Finding Best hyperparameters\n",
    "The parameter used is 'alpha' either 1 or 1e-1 or 1e-2 . GridsearchCV function takes the classifier and all values of parameter and gives the best value for parameter after a certain no. of iterations which is in our case taken as 10 (cv = 10). The best paramters with the best score on training data are printed after the following code.  "
   ]
  },
  {
   "cell_type": "code",
   "execution_count": 208,
   "metadata": {},
   "outputs": [
    {
     "name": "stdout",
     "output_type": "stream",
     "text": [
      "\u001b[1mBest Hyperparamters:\u001b[0;0m {'alpha': 1}\n",
      "\u001b[1mBest Score:\u001b[0;0m 0.6914433880726015\n"
     ]
    }
   ],
   "source": [
    "clf = MultinomialNB()\n",
    "p_grid = {'alpha': [1, 1e-1, 1e-2]}\n",
    "grid = GridSearchCV(estimator = clf, param_grid = p_grid, cv = 10)\n",
    "grid.fit(X_train_scaled, Y_train)\n",
    "finalparam = grid.best_params_\n",
    "print('\\033[1m' + 'Best Hyperparamters:' + \"\\033[0;0m\", grid.best_params_ )\n",
    "print('\\033[1m' + 'Best Score:' + \"\\033[0;0m\", grid.best_score_)"
   ]
  },
  {
   "cell_type": "markdown",
   "metadata": {},
   "source": [
    "## Using the best hyperparameters in building the final model.\n",
    "The final model is build by using the best parameters generated using gridsearch. Below is the summary of the model."
   ]
  },
  {
   "cell_type": "code",
   "execution_count": 209,
   "metadata": {},
   "outputs": [
    {
     "name": "stdout",
     "output_type": "stream",
     "text": [
      "\u001b[1mGOODNESS OF MODEL\u001b[0;0m\n",
      "\u001b[1mAccuracy :\u001b[0;0m 0.7180385288966725\n",
      "**************************************************\n",
      "[0.68376068 0.68376068 0.68965517 0.68965517 0.68965517 0.69565217\n",
      " 0.69565217 0.69565217 0.69565217 0.69565217]\n",
      "**************************************************\n",
      "\u001b[1mcv Score:\u001b[0;0m 0.69 (+/- 0.01)\n",
      "**************************************************\n",
      "              precision    recall  f1-score   support\n",
      "\n",
      "           0       0.72      1.00      0.84       410\n",
      "           1       0.00      0.00      0.00       124\n",
      "           2       0.00      0.00      0.00        17\n",
      "           3       0.00      0.00      0.00        20\n",
      "\n",
      "    accuracy                           0.72       571\n",
      "   macro avg       0.18      0.25      0.21       571\n",
      "weighted avg       0.52      0.72      0.60       571\n",
      "\n",
      "**************************************************\n",
      "\u001b[1mConfusion Matrix\n",
      "\u001b[0;0m [[410   0   0   0]\n",
      " [124   0   0   0]\n",
      " [ 17   0   0   0]\n",
      " [ 20   0   0   0]]\n",
      "**************************************************\n",
      "\u001b[1mMatthews Corrcoef\u001b[0;0m 0.0\n"
     ]
    }
   ],
   "source": [
    "classifier_N = MultinomialNB(alpha = finalparam['alpha'])\n",
    "classifier_N.fit(X_train_scaled, Y_train)\n",
    "print('\\033[1m' + \"GOODNESS OF MODEL\" + \"\\033[0;0m\")\n",
    "print('\\033[1m' + \"Accuracy :\" + \"\\033[0;0m\", accuracy_score(Y_test, classifier_N.predict(X_test_scaled)))\n",
    "print('*' * 50)\n",
    "print(cross_val_score(classifier_N, X_train_scaled, Y_train, cv=10, scoring = 'accuracy'))\n",
    "print('*' * 50)\n",
    "print('\\033[1m' + \"cv Score:\" + \"\\033[0;0m\"\" %0.2f (+/- %0.2f)\" % (cross_val_score(classifier_N,\n",
    "                                                                                   X_train_scaled, Y_train,\n",
    "                                                       cv=10, scoring = 'accuracy').mean(),\n",
    "                                       cross_val_score(classifier_N, X_train_scaled, Y_train,\n",
    "                                                       cv=10, scoring = 'accuracy').std() * 2))\n",
    "print('*' * 50)\n",
    "print(classification_report(Y_test, classifier_N.predict(X_test_scaled)))\n",
    "print('*' * 50)\n",
    "print('\\033[1m' + 'Confusion Matrix\\n' + \"\\033[0;0m\", confusion_matrix(Y_test, classifier_N.predict(X_test_scaled)))\n",
    "print('*' * 50)\n",
    "print('\\033[1m' + 'Matthews Corrcoef' + \"\\033[0;0m\", matthews_corrcoef(Y_test, classifier_N.predict(X_test_scaled)))"
   ]
  },
  {
   "cell_type": "markdown",
   "metadata": {},
   "source": [
    "# Taking Car Data as Categories"
   ]
  },
  {
   "cell_type": "markdown",
   "metadata": {},
   "source": [
    "# Data tranformation"
   ]
  },
  {
   "cell_type": "code",
   "execution_count": 11,
   "metadata": {},
   "outputs": [],
   "source": [
    "cardata1 = cardata\n",
    "buying = pd.get_dummies(cardata1.buying)\n",
    "maint = pd.get_dummies(cardata1.maint)\n",
    "doors = pd.get_dummies(cardata1.doors)\n",
    "persons = pd.get_dummies(cardata1.persons)\n",
    "lug_boot = pd.get_dummies(cardata1.lug_boot)\n",
    "safety = pd.get_dummies(cardata1.safety)\n",
    "buying.columns = ['buying_high', 'buying_low', 'buying_med', 'buying_vhigh']\n",
    "maint.columns = ['maint_high', 'maint_low', 'maint_med', 'maint_vhigh']\n",
    "doors.columns = ['doors_2', 'doors_3', 'doors_4', 'doors_5more']\n",
    "persons.columns = ['persons_2', 'persons_4', 'persons_more']\n",
    "lug_boot.columns = ['lug_boot_big', 'lug_boot_med', 'lug_boot_small']\n",
    "safety.columns = ['safety_high', 'safety_low', 'safety_med']\n",
    "cardata1new = pd.concat([cardata1,buying,maint,doors,persons,lug_boot,safety], axis = 'columns')\n",
    "cardata1new = cardata1new.drop(['buying','maint','doors','persons','lug_boot','safety'], axis = 'columns')\n",
    "cardata1new['acceptability'] = cardata1new['acceptability'].replace('vgood', 3)\n",
    "cardata1new['acceptability'] = cardata1new['acceptability'].replace('good', 2)\n",
    "cardata1new['acceptability'] = cardata1new['acceptability'].replace('acc', 1)\n",
    "cardata1new['acceptability'] = cardata1new['acceptability'].replace('unacc', 0)"
   ]
  },
  {
   "cell_type": "code",
   "execution_count": 12,
   "metadata": {},
   "outputs": [
    {
     "data": {
      "text/html": [
       "<div>\n",
       "<style scoped>\n",
       "    .dataframe tbody tr th:only-of-type {\n",
       "        vertical-align: middle;\n",
       "    }\n",
       "\n",
       "    .dataframe tbody tr th {\n",
       "        vertical-align: top;\n",
       "    }\n",
       "\n",
       "    .dataframe thead th {\n",
       "        text-align: right;\n",
       "    }\n",
       "</style>\n",
       "<table border=\"1\" class=\"dataframe\">\n",
       "  <thead>\n",
       "    <tr style=\"text-align: right;\">\n",
       "      <th></th>\n",
       "      <th>acceptability</th>\n",
       "      <th>buying_high</th>\n",
       "      <th>buying_low</th>\n",
       "      <th>buying_med</th>\n",
       "      <th>buying_vhigh</th>\n",
       "      <th>maint_high</th>\n",
       "      <th>maint_low</th>\n",
       "      <th>maint_med</th>\n",
       "      <th>maint_vhigh</th>\n",
       "      <th>doors_2</th>\n",
       "      <th>...</th>\n",
       "      <th>doors_5more</th>\n",
       "      <th>persons_2</th>\n",
       "      <th>persons_4</th>\n",
       "      <th>persons_more</th>\n",
       "      <th>lug_boot_big</th>\n",
       "      <th>lug_boot_med</th>\n",
       "      <th>lug_boot_small</th>\n",
       "      <th>safety_high</th>\n",
       "      <th>safety_low</th>\n",
       "      <th>safety_med</th>\n",
       "    </tr>\n",
       "  </thead>\n",
       "  <tbody>\n",
       "    <tr>\n",
       "      <td>0</td>\n",
       "      <td>0</td>\n",
       "      <td>0</td>\n",
       "      <td>0</td>\n",
       "      <td>0</td>\n",
       "      <td>1</td>\n",
       "      <td>0</td>\n",
       "      <td>0</td>\n",
       "      <td>0</td>\n",
       "      <td>1</td>\n",
       "      <td>1</td>\n",
       "      <td>...</td>\n",
       "      <td>0</td>\n",
       "      <td>1</td>\n",
       "      <td>0</td>\n",
       "      <td>0</td>\n",
       "      <td>1</td>\n",
       "      <td>0</td>\n",
       "      <td>0</td>\n",
       "      <td>1</td>\n",
       "      <td>0</td>\n",
       "      <td>0</td>\n",
       "    </tr>\n",
       "    <tr>\n",
       "      <td>1</td>\n",
       "      <td>0</td>\n",
       "      <td>0</td>\n",
       "      <td>0</td>\n",
       "      <td>0</td>\n",
       "      <td>1</td>\n",
       "      <td>0</td>\n",
       "      <td>0</td>\n",
       "      <td>0</td>\n",
       "      <td>1</td>\n",
       "      <td>1</td>\n",
       "      <td>...</td>\n",
       "      <td>0</td>\n",
       "      <td>1</td>\n",
       "      <td>0</td>\n",
       "      <td>0</td>\n",
       "      <td>1</td>\n",
       "      <td>0</td>\n",
       "      <td>0</td>\n",
       "      <td>0</td>\n",
       "      <td>1</td>\n",
       "      <td>0</td>\n",
       "    </tr>\n",
       "    <tr>\n",
       "      <td>2</td>\n",
       "      <td>0</td>\n",
       "      <td>0</td>\n",
       "      <td>0</td>\n",
       "      <td>0</td>\n",
       "      <td>1</td>\n",
       "      <td>0</td>\n",
       "      <td>0</td>\n",
       "      <td>0</td>\n",
       "      <td>1</td>\n",
       "      <td>1</td>\n",
       "      <td>...</td>\n",
       "      <td>0</td>\n",
       "      <td>1</td>\n",
       "      <td>0</td>\n",
       "      <td>0</td>\n",
       "      <td>1</td>\n",
       "      <td>0</td>\n",
       "      <td>0</td>\n",
       "      <td>0</td>\n",
       "      <td>0</td>\n",
       "      <td>1</td>\n",
       "    </tr>\n",
       "    <tr>\n",
       "      <td>3</td>\n",
       "      <td>0</td>\n",
       "      <td>0</td>\n",
       "      <td>0</td>\n",
       "      <td>0</td>\n",
       "      <td>1</td>\n",
       "      <td>0</td>\n",
       "      <td>0</td>\n",
       "      <td>0</td>\n",
       "      <td>1</td>\n",
       "      <td>1</td>\n",
       "      <td>...</td>\n",
       "      <td>0</td>\n",
       "      <td>1</td>\n",
       "      <td>0</td>\n",
       "      <td>0</td>\n",
       "      <td>0</td>\n",
       "      <td>1</td>\n",
       "      <td>0</td>\n",
       "      <td>1</td>\n",
       "      <td>0</td>\n",
       "      <td>0</td>\n",
       "    </tr>\n",
       "    <tr>\n",
       "      <td>4</td>\n",
       "      <td>0</td>\n",
       "      <td>0</td>\n",
       "      <td>0</td>\n",
       "      <td>0</td>\n",
       "      <td>1</td>\n",
       "      <td>0</td>\n",
       "      <td>0</td>\n",
       "      <td>0</td>\n",
       "      <td>1</td>\n",
       "      <td>1</td>\n",
       "      <td>...</td>\n",
       "      <td>0</td>\n",
       "      <td>1</td>\n",
       "      <td>0</td>\n",
       "      <td>0</td>\n",
       "      <td>0</td>\n",
       "      <td>1</td>\n",
       "      <td>0</td>\n",
       "      <td>0</td>\n",
       "      <td>1</td>\n",
       "      <td>0</td>\n",
       "    </tr>\n",
       "  </tbody>\n",
       "</table>\n",
       "<p>5 rows × 22 columns</p>\n",
       "</div>"
      ],
      "text/plain": [
       "   acceptability  buying_high  buying_low  buying_med  buying_vhigh  \\\n",
       "0              0            0           0           0             1   \n",
       "1              0            0           0           0             1   \n",
       "2              0            0           0           0             1   \n",
       "3              0            0           0           0             1   \n",
       "4              0            0           0           0             1   \n",
       "\n",
       "   maint_high  maint_low  maint_med  maint_vhigh  doors_2  ...  doors_5more  \\\n",
       "0           0          0          0            1        1  ...            0   \n",
       "1           0          0          0            1        1  ...            0   \n",
       "2           0          0          0            1        1  ...            0   \n",
       "3           0          0          0            1        1  ...            0   \n",
       "4           0          0          0            1        1  ...            0   \n",
       "\n",
       "   persons_2  persons_4  persons_more  lug_boot_big  lug_boot_med  \\\n",
       "0          1          0             0             1             0   \n",
       "1          1          0             0             1             0   \n",
       "2          1          0             0             1             0   \n",
       "3          1          0             0             0             1   \n",
       "4          1          0             0             0             1   \n",
       "\n",
       "   lug_boot_small  safety_high  safety_low  safety_med  \n",
       "0               0            1           0           0  \n",
       "1               0            0           1           0  \n",
       "2               0            0           0           1  \n",
       "3               0            1           0           0  \n",
       "4               0            0           1           0  \n",
       "\n",
       "[5 rows x 22 columns]"
      ]
     },
     "execution_count": 12,
     "metadata": {},
     "output_type": "execute_result"
    }
   ],
   "source": [
    "cardata1new.head()"
   ]
  },
  {
   "cell_type": "markdown",
   "metadata": {},
   "source": [
    "# Segmenting target and predictor data\n",
    "Segmented the dataset in target data and predictor data. Here the target data is column \"acceptability\" and predictor data consist all other columns."
   ]
  },
  {
   "cell_type": "code",
   "execution_count": 13,
   "metadata": {},
   "outputs": [],
   "source": [
    "X = cardata1new.drop(['acceptability'], axis = 'columns')\n",
    "Y = cardata1new['acceptability']"
   ]
  },
  {
   "cell_type": "code",
   "execution_count": 14,
   "metadata": {},
   "outputs": [
    {
     "data": {
      "text/html": [
       "<div>\n",
       "<style scoped>\n",
       "    .dataframe tbody tr th:only-of-type {\n",
       "        vertical-align: middle;\n",
       "    }\n",
       "\n",
       "    .dataframe tbody tr th {\n",
       "        vertical-align: top;\n",
       "    }\n",
       "\n",
       "    .dataframe thead th {\n",
       "        text-align: right;\n",
       "    }\n",
       "</style>\n",
       "<table border=\"1\" class=\"dataframe\">\n",
       "  <thead>\n",
       "    <tr style=\"text-align: right;\">\n",
       "      <th></th>\n",
       "      <th>buying_high</th>\n",
       "      <th>buying_low</th>\n",
       "      <th>buying_med</th>\n",
       "      <th>buying_vhigh</th>\n",
       "      <th>maint_high</th>\n",
       "      <th>maint_low</th>\n",
       "      <th>maint_med</th>\n",
       "      <th>maint_vhigh</th>\n",
       "      <th>doors_2</th>\n",
       "      <th>doors_3</th>\n",
       "      <th>...</th>\n",
       "      <th>doors_5more</th>\n",
       "      <th>persons_2</th>\n",
       "      <th>persons_4</th>\n",
       "      <th>persons_more</th>\n",
       "      <th>lug_boot_big</th>\n",
       "      <th>lug_boot_med</th>\n",
       "      <th>lug_boot_small</th>\n",
       "      <th>safety_high</th>\n",
       "      <th>safety_low</th>\n",
       "      <th>safety_med</th>\n",
       "    </tr>\n",
       "  </thead>\n",
       "  <tbody>\n",
       "    <tr>\n",
       "      <td>0</td>\n",
       "      <td>0</td>\n",
       "      <td>0</td>\n",
       "      <td>0</td>\n",
       "      <td>1</td>\n",
       "      <td>0</td>\n",
       "      <td>0</td>\n",
       "      <td>0</td>\n",
       "      <td>1</td>\n",
       "      <td>1</td>\n",
       "      <td>0</td>\n",
       "      <td>...</td>\n",
       "      <td>0</td>\n",
       "      <td>1</td>\n",
       "      <td>0</td>\n",
       "      <td>0</td>\n",
       "      <td>1</td>\n",
       "      <td>0</td>\n",
       "      <td>0</td>\n",
       "      <td>1</td>\n",
       "      <td>0</td>\n",
       "      <td>0</td>\n",
       "    </tr>\n",
       "    <tr>\n",
       "      <td>1</td>\n",
       "      <td>0</td>\n",
       "      <td>0</td>\n",
       "      <td>0</td>\n",
       "      <td>1</td>\n",
       "      <td>0</td>\n",
       "      <td>0</td>\n",
       "      <td>0</td>\n",
       "      <td>1</td>\n",
       "      <td>1</td>\n",
       "      <td>0</td>\n",
       "      <td>...</td>\n",
       "      <td>0</td>\n",
       "      <td>1</td>\n",
       "      <td>0</td>\n",
       "      <td>0</td>\n",
       "      <td>1</td>\n",
       "      <td>0</td>\n",
       "      <td>0</td>\n",
       "      <td>0</td>\n",
       "      <td>1</td>\n",
       "      <td>0</td>\n",
       "    </tr>\n",
       "    <tr>\n",
       "      <td>2</td>\n",
       "      <td>0</td>\n",
       "      <td>0</td>\n",
       "      <td>0</td>\n",
       "      <td>1</td>\n",
       "      <td>0</td>\n",
       "      <td>0</td>\n",
       "      <td>0</td>\n",
       "      <td>1</td>\n",
       "      <td>1</td>\n",
       "      <td>0</td>\n",
       "      <td>...</td>\n",
       "      <td>0</td>\n",
       "      <td>1</td>\n",
       "      <td>0</td>\n",
       "      <td>0</td>\n",
       "      <td>1</td>\n",
       "      <td>0</td>\n",
       "      <td>0</td>\n",
       "      <td>0</td>\n",
       "      <td>0</td>\n",
       "      <td>1</td>\n",
       "    </tr>\n",
       "    <tr>\n",
       "      <td>3</td>\n",
       "      <td>0</td>\n",
       "      <td>0</td>\n",
       "      <td>0</td>\n",
       "      <td>1</td>\n",
       "      <td>0</td>\n",
       "      <td>0</td>\n",
       "      <td>0</td>\n",
       "      <td>1</td>\n",
       "      <td>1</td>\n",
       "      <td>0</td>\n",
       "      <td>...</td>\n",
       "      <td>0</td>\n",
       "      <td>1</td>\n",
       "      <td>0</td>\n",
       "      <td>0</td>\n",
       "      <td>0</td>\n",
       "      <td>1</td>\n",
       "      <td>0</td>\n",
       "      <td>1</td>\n",
       "      <td>0</td>\n",
       "      <td>0</td>\n",
       "    </tr>\n",
       "    <tr>\n",
       "      <td>4</td>\n",
       "      <td>0</td>\n",
       "      <td>0</td>\n",
       "      <td>0</td>\n",
       "      <td>1</td>\n",
       "      <td>0</td>\n",
       "      <td>0</td>\n",
       "      <td>0</td>\n",
       "      <td>1</td>\n",
       "      <td>1</td>\n",
       "      <td>0</td>\n",
       "      <td>...</td>\n",
       "      <td>0</td>\n",
       "      <td>1</td>\n",
       "      <td>0</td>\n",
       "      <td>0</td>\n",
       "      <td>0</td>\n",
       "      <td>1</td>\n",
       "      <td>0</td>\n",
       "      <td>0</td>\n",
       "      <td>1</td>\n",
       "      <td>0</td>\n",
       "    </tr>\n",
       "  </tbody>\n",
       "</table>\n",
       "<p>5 rows × 21 columns</p>\n",
       "</div>"
      ],
      "text/plain": [
       "   buying_high  buying_low  buying_med  buying_vhigh  maint_high  maint_low  \\\n",
       "0            0           0           0             1           0          0   \n",
       "1            0           0           0             1           0          0   \n",
       "2            0           0           0             1           0          0   \n",
       "3            0           0           0             1           0          0   \n",
       "4            0           0           0             1           0          0   \n",
       "\n",
       "   maint_med  maint_vhigh  doors_2  doors_3  ...  doors_5more  persons_2  \\\n",
       "0          0            1        1        0  ...            0          1   \n",
       "1          0            1        1        0  ...            0          1   \n",
       "2          0            1        1        0  ...            0          1   \n",
       "3          0            1        1        0  ...            0          1   \n",
       "4          0            1        1        0  ...            0          1   \n",
       "\n",
       "   persons_4  persons_more  lug_boot_big  lug_boot_med  lug_boot_small  \\\n",
       "0          0             0             1             0               0   \n",
       "1          0             0             1             0               0   \n",
       "2          0             0             1             0               0   \n",
       "3          0             0             0             1               0   \n",
       "4          0             0             0             1               0   \n",
       "\n",
       "   safety_high  safety_low  safety_med  \n",
       "0            1           0           0  \n",
       "1            0           1           0  \n",
       "2            0           0           1  \n",
       "3            1           0           0  \n",
       "4            0           1           0  \n",
       "\n",
       "[5 rows x 21 columns]"
      ]
     },
     "execution_count": 14,
     "metadata": {},
     "output_type": "execute_result"
    }
   ],
   "source": [
    "X.head()"
   ]
  },
  {
   "cell_type": "code",
   "execution_count": 15,
   "metadata": {},
   "outputs": [
    {
     "data": {
      "text/plain": [
       "0    0\n",
       "1    0\n",
       "2    0\n",
       "3    0\n",
       "4    0\n",
       "Name: acceptability, dtype: int64"
      ]
     },
     "execution_count": 15,
     "metadata": {},
     "output_type": "execute_result"
    }
   ],
   "source": [
    "Y.head()"
   ]
  },
  {
   "cell_type": "markdown",
   "metadata": {},
   "source": [
    "# Spliting target and predictor data into training and testing \n",
    "Splitted the target data and predictor data into training and testing, with 67 % data as training and 33 % as testing. "
   ]
  },
  {
   "cell_type": "code",
   "execution_count": 212,
   "metadata": {},
   "outputs": [],
   "source": [
    "from sklearn.model_selection import train_test_split\n",
    "X_train, X_test, Y_train, Y_test = train_test_split(X, Y, test_size = 0.33)"
   ]
  },
  {
   "cell_type": "markdown",
   "metadata": {},
   "source": [
    "# Scaling the data using MinMaxScaler\n",
    "The data is scaled using MinMaxScaler on a range of 0 to 1.This process is same for all models. Although Decision Tree model doesn't require data to be scaled but for keeping the dataset uniform and on same scale for all models the same scaled data is used for Decision Tree model as well. "
   ]
  },
  {
   "cell_type": "code",
   "execution_count": 213,
   "metadata": {},
   "outputs": [],
   "source": [
    "from sklearn.preprocessing import MinMaxScaler\n",
    "scaler = MinMaxScaler()\n",
    "scaler.fit(X_train)\n",
    "X_train_scaled = scaler.transform(X_train)\n",
    "X_test_scaled = scaler.transform(X_test)"
   ]
  },
  {
   "cell_type": "markdown",
   "metadata": {},
   "source": [
    "# Decision Tree"
   ]
  },
  {
   "cell_type": "markdown",
   "metadata": {},
   "source": [
    "## Finding Best hyperparameters\n",
    "The parameters used are \"max_depth\" in the range of 1 to 30, \"criterion\" either entropy or gini, 'min_samples_leaf' in the range of 1 to 30. GridsearchCV function takes the classifier and all values of parameters and gives the best value for each parameter after a certain no. of iterations which is in our case taken as 10 (cv = 10). The best paramters with the best score on training data are printed after the following code. "
   ]
  },
  {
   "cell_type": "code",
   "execution_count": 214,
   "metadata": {},
   "outputs": [
    {
     "name": "stdout",
     "output_type": "stream",
     "text": [
      "\u001b[1mBest Hyperparamters:\u001b[0;0m {'criterion': 'entropy', 'max_depth': 21, 'min_samples_leaf': 1}\n",
      "\u001b[1mBest Score:\u001b[0;0m 0.9680207433016422\n"
     ]
    }
   ],
   "source": [
    "clf = DecisionTreeClassifier()\n",
    "p_grid = {\"max_depth\": list(range(1,30)), \"criterion\" : ['entropy','gini'], 'min_samples_leaf' : list(range(1,30))}\n",
    "grid = GridSearchCV(estimator = clf, param_grid = p_grid, cv = 10)\n",
    "grid.fit(X_train_scaled, Y_train)\n",
    "finalparam = grid.best_params_\n",
    "print('\\033[1m' + 'Best Hyperparamters:' + \"\\033[0;0m\", grid.best_params_ )\n",
    "print('\\033[1m' + 'Best Score:' + \"\\033[0;0m\", grid.best_score_)"
   ]
  },
  {
   "cell_type": "markdown",
   "metadata": {},
   "source": [
    "## Using the best hyperparameters in building the final model.\n",
    "The final model is build by using the best parameters generated using gridsearch. Below is the summary of the model."
   ]
  },
  {
   "cell_type": "code",
   "execution_count": 215,
   "metadata": {},
   "outputs": [
    {
     "name": "stdout",
     "output_type": "stream",
     "text": [
      "\u001b[1mGOODNESS OF MODEL\u001b[0;0m\n",
      "\u001b[1mAccuracy:\u001b[0;0m 0.9632224168126094\n",
      "**************************************************\n",
      "[0.97435897 0.97435897 0.96581197 0.95689655 0.93965517 0.93913043\n",
      " 0.96521739 1.         0.97391304 0.98245614]\n",
      "**************************************************\n",
      "\u001b[1mcv Score:\u001b[0;0m 0.97 (+/- 0.03)\n",
      "**************************************************\n",
      "              precision    recall  f1-score   support\n",
      "\n",
      "           0       0.99      0.98      0.99       390\n",
      "           1       0.95      0.91      0.93       139\n",
      "           2       0.67      0.88      0.76        16\n",
      "           3       0.90      1.00      0.95        26\n",
      "\n",
      "    accuracy                           0.96       571\n",
      "   macro avg       0.88      0.94      0.90       571\n",
      "weighted avg       0.97      0.96      0.96       571\n",
      "\n",
      "**************************************************\n",
      "\u001b[1mConfusion Matrix\n",
      "\u001b[0;0m [[383   6   1   0]\n",
      " [  4 127   6   2]\n",
      " [  0   1  14   1]\n",
      " [  0   0   0  26]]\n",
      "**************************************************\n",
      "\u001b[1mMatthews Corrcoef\u001b[0;0m 0.9230908354129029\n"
     ]
    }
   ],
   "source": [
    "classifier_d = DecisionTreeClassifier(criterion = finalparam['criterion'],\n",
    "                                      max_depth = finalparam['max_depth'],\n",
    "                                      min_samples_leaf = finalparam['min_samples_leaf'])\n",
    "classifier_d.fit(X_train_scaled, Y_train)\n",
    "print('\\033[1m' + \"GOODNESS OF MODEL\" + \"\\033[0;0m\")\n",
    "print('\\033[1m' + \"Accuracy:\" + \"\\033[0;0m\", accuracy_score(Y_test, classifier_d.predict(X_test_scaled)))\n",
    "print('*' * 50)\n",
    "print(cross_val_score(classifier_d, X_train_scaled, Y_train, cv = 10, scoring = 'accuracy'))\n",
    "print('*' * 50)\n",
    "print('\\033[1m' + \"cv Score:\" + \"\\033[0;0m\"\" %0.2f (+/- %0.2f)\" % (cross_val_score(classifier_d,\n",
    "                                                                                   X_train_scaled, Y_train,\n",
    "                                                       cv=10, scoring = 'accuracy').mean(),\n",
    "                                       cross_val_score(classifier_d, X_train_scaled, Y_train,\n",
    "                                                       cv=10, scoring = 'accuracy').std() * 2))\n",
    "print('*' * 50)\n",
    "print(classification_report(Y_test, classifier_d.predict(X_test_scaled)))\n",
    "print('*' * 50)\n",
    "print('\\033[1m' + 'Confusion Matrix\\n' + \"\\033[0;0m\", confusion_matrix(Y_test, classifier_d.predict(X_test_scaled)))\n",
    "print('*' * 50)\n",
    "print('\\033[1m' + 'Matthews Corrcoef' + \"\\033[0;0m\", matthews_corrcoef(Y_test, classifier_d.predict(X_test_scaled)))"
   ]
  },
  {
   "cell_type": "markdown",
   "metadata": {},
   "source": [
    "# KNN"
   ]
  },
  {
   "cell_type": "markdown",
   "metadata": {},
   "source": [
    "## Finding Best hyperparameters\n",
    "The parameters used are \"n_neighbors\" in the range of 1 to 30, \"weights\" either entropy or gini. GridsearchCV function takes the classifier and all values of parameters and gives the best value for each parameter after a certain no. of iterations which is in our case taken as 10 (cv = 10). The best paramters with the best score on training data are printed after the following code. "
   ]
  },
  {
   "cell_type": "code",
   "execution_count": 216,
   "metadata": {},
   "outputs": [
    {
     "name": "stdout",
     "output_type": "stream",
     "text": [
      "\u001b[1mBest Hyperparamters:\u001b[0;0m {'n_neighbors': 9, 'weights': 'distance'}\n",
      "\u001b[1mBest Score:\u001b[0;0m 0.9127052722558341\n"
     ]
    }
   ],
   "source": [
    "clf = KNeighborsClassifier()\n",
    "p_grid = {'weights':[\"uniform\", \"distance\"], 'n_neighbors' : list(range(1,30))}\n",
    "grid = GridSearchCV(estimator = clf, param_grid = p_grid, cv = 10)\n",
    "grid.fit(X_train_scaled, Y_train)\n",
    "finalparam = grid.best_params_\n",
    "print('\\033[1m' + 'Best Hyperparamters:' + \"\\033[0;0m\", grid.best_params_ )\n",
    "print('\\033[1m' + 'Best Score:' + \"\\033[0;0m\", grid.best_score_)"
   ]
  },
  {
   "cell_type": "markdown",
   "metadata": {},
   "source": [
    "## Using the best hyperparameters in building the final model.\n",
    "The final model is build by using the best parameters generated using gridsearch. Below is the summary of the model."
   ]
  },
  {
   "cell_type": "code",
   "execution_count": 217,
   "metadata": {},
   "outputs": [
    {
     "name": "stdout",
     "output_type": "stream",
     "text": [
      "\u001b[1mGOODNESS OF MODEL\u001b[0;0m\n",
      "\u001b[1mAccuracy :\u001b[0;0m 0.9054290718038529\n",
      "**************************************************\n",
      "[0.91452991 0.98290598 0.8974359  0.88793103 0.92241379 0.90434783\n",
      " 0.89565217 0.91304348 0.90434783 0.90350877]\n",
      "**************************************************\n",
      "\u001b[1mcv Score:\u001b[0;0m 0.91 (+/- 0.05)\n",
      "**************************************************\n",
      "              precision    recall  f1-score   support\n",
      "\n",
      "           0       0.94      0.99      0.96       390\n",
      "           1       0.83      0.80      0.82       139\n",
      "           2       0.50      0.38      0.43        16\n",
      "           3       1.00      0.54      0.70        26\n",
      "\n",
      "    accuracy                           0.91       571\n",
      "   macro avg       0.82      0.68      0.73       571\n",
      "weighted avg       0.90      0.91      0.90       571\n",
      "\n",
      "**************************************************\n",
      "\u001b[1mConfusion Matrix\n",
      "\u001b[0;0m [[386   4   0   0]\n",
      " [ 24 111   4   0]\n",
      " [  1   9   6   0]\n",
      " [  1   9   2  14]]\n",
      "**************************************************\n",
      "\u001b[1mMatthews Corrcoef\u001b[0;0m 0.7922112365949818\n"
     ]
    }
   ],
   "source": [
    "classifier_k = KNeighborsClassifier(n_neighbors= finalparam['n_neighbors'], weights= finalparam['weights'])\n",
    "classifier_k.fit(X_train_scaled, Y_train)\n",
    "print('\\033[1m' + \"GOODNESS OF MODEL\" + \"\\033[0;0m\")\n",
    "print('\\033[1m' + \"Accuracy :\" + \"\\033[0;0m\", accuracy_score(Y_test, classifier_k.predict(X_test_scaled)))\n",
    "print('*' * 50)\n",
    "print(cross_val_score(classifier_k, X_train_scaled, Y_train, cv=10, scoring = 'accuracy'))\n",
    "print('*' * 50)\n",
    "print('\\033[1m' + \"cv Score:\" + \"\\033[0;0m\"\" %0.2f (+/- %0.2f)\" % (cross_val_score(classifier_k,\n",
    "                                                                                   X_train_scaled, Y_train,\n",
    "                                                       cv=10, scoring = 'accuracy').mean(),\n",
    "                                       cross_val_score(classifier_k, X_train_scaled, Y_train,\n",
    "                                                       cv=10, scoring = 'accuracy').std() * 2))\n",
    "print('*' * 50)\n",
    "print(classification_report(Y_test, classifier_k.predict(X_test_scaled)))\n",
    "print('*' * 50)\n",
    "print('\\033[1m' + 'Confusion Matrix\\n' + \"\\033[0;0m\", confusion_matrix(Y_test, classifier_k.predict(X_test_scaled)))\n",
    "print('*' * 50)\n",
    "print('\\033[1m' + 'Matthews Corrcoef' + \"\\033[0;0m\", matthews_corrcoef(Y_test, classifier_k.predict(X_test_scaled)))"
   ]
  },
  {
   "cell_type": "markdown",
   "metadata": {},
   "source": [
    "# Logistic Regression"
   ]
  },
  {
   "cell_type": "markdown",
   "metadata": {},
   "source": [
    "## Finding Best hyperparameters\n",
    "The parameters used are \"C\" in the range of 1 to 30, \"penalty\" either l1 or l2. GridsearchCV function takes the classifier and all values of parameters and gives the best value for each parameter after a certain no. of iterations which is in our case taken as 10 (cv = 10). The best paramters with the best score on training data are printed after the following code."
   ]
  },
  {
   "cell_type": "code",
   "execution_count": 218,
   "metadata": {},
   "outputs": [
    {
     "name": "stdout",
     "output_type": "stream",
     "text": [
      "\u001b[1mBest Hyperparamters:\u001b[0;0m {'C': 24, 'penalty': 'l1'}\n",
      "\u001b[1mBest Score:\u001b[0;0m 0.8980121002592912\n"
     ]
    }
   ],
   "source": [
    "clf = LogisticRegression()\n",
    "p_grid = {'penalty':[\"l1\", \"l2\"], 'C' : list(range(1,30))}\n",
    "grid = GridSearchCV(estimator = clf, param_grid = p_grid, cv = 10)\n",
    "grid.fit(X_train_scaled, Y_train)\n",
    "finalparam = grid.best_params_\n",
    "print('\\033[1m' + 'Best Hyperparamters:' + \"\\033[0;0m\", grid.best_params_ )\n",
    "print('\\033[1m' + 'Best Score:' + \"\\033[0;0m\", grid.best_score_)"
   ]
  },
  {
   "cell_type": "markdown",
   "metadata": {},
   "source": [
    "## Using the best hyperparameters in building the final model.\n",
    "The final model is build by using the best parameters generated using gridsearch. Below is the summary of the model."
   ]
  },
  {
   "cell_type": "code",
   "execution_count": 219,
   "metadata": {},
   "outputs": [
    {
     "name": "stdout",
     "output_type": "stream",
     "text": [
      "\u001b[1mGOODNESS OF MODEL\u001b[0;0m\n",
      "\u001b[1mAccuracy :\u001b[0;0m 0.8861646234676007\n",
      "**************************************************\n",
      "[0.87179487 0.94871795 0.88034188 0.88793103 0.9137931  0.90434783\n",
      " 0.90434783 0.89565217 0.86086957 0.9122807 ]\n",
      "**************************************************\n",
      "\u001b[1mcv Score:\u001b[0;0m 0.90 (+/- 0.05)\n",
      "**************************************************\n",
      "              precision    recall  f1-score   support\n",
      "\n",
      "           0       0.94      0.96      0.95       390\n",
      "           1       0.77      0.78      0.77       139\n",
      "           2       0.36      0.31      0.33        16\n",
      "           3       0.91      0.77      0.83        26\n",
      "\n",
      "    accuracy                           0.89       571\n",
      "   macro avg       0.75      0.70      0.72       571\n",
      "weighted avg       0.88      0.89      0.88       571\n",
      "\n",
      "**************************************************\n",
      "\u001b[1mConfusion Matrix\n",
      "\u001b[0;0m [[373  16   1   0]\n",
      " [ 22 108   8   1]\n",
      " [  0  10   5   1]\n",
      " [  0   6   0  20]]\n",
      "**************************************************\n",
      "\u001b[1mMatthews Corrcoef\u001b[0;0m 0.7555745322337952\n"
     ]
    }
   ],
   "source": [
    "classifier_l = LogisticRegression(C= finalparam['C'], penalty = finalparam['penalty'])\n",
    "classifier_l.fit(X_train_scaled, Y_train)\n",
    "print('\\033[1m' + \"GOODNESS OF MODEL\" + \"\\033[0;0m\")\n",
    "print('\\033[1m' + \"Accuracy :\" + \"\\033[0;0m\", accuracy_score(Y_test, classifier_l.predict(X_test_scaled)))\n",
    "print('*' * 50)\n",
    "print(cross_val_score(classifier_l, X_train_scaled, Y_train, cv=10, scoring = 'accuracy'))\n",
    "print('*' * 50)\n",
    "print('\\033[1m' + \"cv Score:\" + \"\\033[0;0m\"\" %0.2f (+/- %0.2f)\" % (cross_val_score(classifier_l,\n",
    "                                                                                   X_train_scaled, Y_train,\n",
    "                                                       cv=10, scoring = 'accuracy').mean(),\n",
    "                                       cross_val_score(classifier_l, X_train_scaled, Y_train,\n",
    "                                                       cv=10, scoring = 'accuracy').std() * 2))\n",
    "print('*' * 50)\n",
    "print(classification_report(Y_test, classifier_l.predict(X_test_scaled)))\n",
    "print('*' * 50)\n",
    "print('\\033[1m' + 'Confusion Matrix\\n' + \"\\033[0;0m\", confusion_matrix(Y_test, classifier_l.predict(X_test_scaled)))\n",
    "print('*' * 50)\n",
    "print('\\033[1m' + 'Matthews Corrcoef' + \"\\033[0;0m\", matthews_corrcoef(Y_test, classifier_l.predict(X_test_scaled)))"
   ]
  },
  {
   "cell_type": "markdown",
   "metadata": {},
   "source": [
    "# SVM"
   ]
  },
  {
   "cell_type": "markdown",
   "metadata": {},
   "source": [
    "## Finding Best hyperparameters\n",
    "The parameters used are \"C\" in the range of 1 to 30, \"gamma\" either auto or scale, 'degree' in the range of 1 to 30 and 'kernal' either linear or poly or rbf or sigmoid. GridsearchCV function takes the classifier and all values of parameters and gives the best value for each parameter after a certain no. of iterations which is in our case taken as 10 (cv = 10). The best paramters with the best score on training data are printed after the following code. "
   ]
  },
  {
   "cell_type": "code",
   "execution_count": 220,
   "metadata": {},
   "outputs": [
    {
     "name": "stdout",
     "output_type": "stream",
     "text": [
      "\u001b[1mBest Hyperparamters:\u001b[0;0m {'C': 2, 'degree': 3, 'gamma': 'scale', 'kernel': 'poly'}\n",
      "\u001b[1mBest Score:\u001b[0;0m 0.996542783059637\n"
     ]
    }
   ],
   "source": [
    "clf = SVC()\n",
    "p_grid = {'kernel':['linear', 'poly', 'rbf', 'sigmoid' ],\n",
    "          'C' : list(range(1,30)), 'degree': list(range(3,8)), 'gamma': ['auto', 'scale']}\n",
    "grid = GridSearchCV(estimator = clf, param_grid = p_grid, cv = 10)\n",
    "grid.fit(X_train_scaled, Y_train)\n",
    "finalparam = grid.best_params_\n",
    "print('\\033[1m' + 'Best Hyperparamters:' + \"\\033[0;0m\", grid.best_params_ )\n",
    "print('\\033[1m' + 'Best Score:' + \"\\033[0;0m\", grid.best_score_)"
   ]
  },
  {
   "cell_type": "markdown",
   "metadata": {},
   "source": [
    "## Using the best hyperparameters in building the final model.\n",
    "The final model is build by using the best parameters generated using gridsearch. Below is the summary of the model."
   ]
  },
  {
   "cell_type": "code",
   "execution_count": 221,
   "metadata": {},
   "outputs": [
    {
     "name": "stdout",
     "output_type": "stream",
     "text": [
      "\u001b[1mGOODNESS OF MODEL\u001b[0;0m\n",
      "\u001b[1mAccuracy :\u001b[0;0m 0.9929947460595446\n",
      "**************************************************\n",
      "[1.         1.         0.99145299 0.99137931 1.         1.\n",
      " 0.99130435 1.         1.         0.99122807]\n",
      "**************************************************\n",
      "\u001b[1mCV Score:\u001b[0;0m 1.00 (+/- 0.01)\n",
      "**************************************************\n",
      "              precision    recall  f1-score   support\n",
      "\n",
      "           0       1.00      1.00      1.00       390\n",
      "           1       1.00      0.97      0.99       139\n",
      "           2       0.80      1.00      0.89        16\n",
      "           3       1.00      1.00      1.00        26\n",
      "\n",
      "    accuracy                           0.99       571\n",
      "   macro avg       0.95      0.99      0.97       571\n",
      "weighted avg       0.99      0.99      0.99       571\n",
      "\n",
      "**************************************************\n",
      "\u001b[1mConfusion Matrix\n",
      "\u001b[0;0m [[390   0   0   0]\n",
      " [  0 135   4   0]\n",
      " [  0   0  16   0]\n",
      " [  0   0   0  26]]\n",
      "**************************************************\n",
      "\u001b[1mMatthews Corrcoef\u001b[0;0m 0.9852930907870173\n"
     ]
    }
   ],
   "source": [
    "classifier_S = SVC(kernel= finalparam['kernel'], C = finalparam['C'], degree = finalparam['degree'],\n",
    "                   gamma = finalparam['gamma'], probability = True)\n",
    "classifier_S.fit(X_train_scaled, Y_train)\n",
    "print('\\033[1m' + \"GOODNESS OF MODEL\" + \"\\033[0;0m\")\n",
    "print('\\033[1m' + \"Accuracy :\" + \"\\033[0;0m\", accuracy_score(Y_test, classifier_S.predict(X_test_scaled)))\n",
    "print('*' * 50)\n",
    "print(cross_val_score(classifier_S, X_train_scaled, Y_train, cv=10, scoring='accuracy'))\n",
    "print('*' * 50)\n",
    "print('\\033[1m' + \"CV Score:\" + \"\\033[0;0m\"\" %0.2f (+/- %0.2f)\" % (cross_val_score(classifier_S,\n",
    "                                                                                   X_train_scaled, Y_train,\n",
    "                                                       cv=10, scoring='accuracy').mean(),\n",
    "                                       cross_val_score(classifier_S, X_train_scaled, Y_train,\n",
    "                                                       cv=10, scoring='accuracy').std() * 2))\n",
    "print('*' * 50)\n",
    "print(classification_report(Y_test, classifier_S.predict(X_test_scaled)))\n",
    "print('*' * 50)\n",
    "print('\\033[1m' + 'Confusion Matrix\\n' + \"\\033[0;0m\", confusion_matrix(Y_test, classifier_S.predict(X_test_scaled)))\n",
    "print('*' * 50)\n",
    "print('\\033[1m' + 'Matthews Corrcoef' + \"\\033[0;0m\", matthews_corrcoef(Y_test, classifier_S.predict(X_test_scaled)))"
   ]
  },
  {
   "cell_type": "markdown",
   "metadata": {},
   "source": [
    "# Multinomial NB"
   ]
  },
  {
   "cell_type": "markdown",
   "metadata": {},
   "source": [
    "## Finding Best hyperparameters\n",
    "The parameter used is 'alpha' either 1 or 1e-1 or 1e-2 . GridsearchCV function takes the classifier and all values of parameter and gives the best value for parameter after a certain no. of iterations which is in our case taken as 10 (cv = 10). The best paramters with the best score on training data are printed after the following code. "
   ]
  },
  {
   "cell_type": "code",
   "execution_count": 222,
   "metadata": {},
   "outputs": [
    {
     "name": "stdout",
     "output_type": "stream",
     "text": [
      "\u001b[1mBest Hyperparamters:\u001b[0;0m {'alpha': 1}\n",
      "\u001b[1mBest Score:\u001b[0;0m 0.8504753673293\n"
     ]
    }
   ],
   "source": [
    "clf = MultinomialNB()\n",
    "p_grid = {'alpha': [1, 1e-1, 1e-2]}\n",
    "grid = GridSearchCV(estimator = clf, param_grid = p_grid, cv = 10)\n",
    "grid.fit(X_train_scaled, Y_train)\n",
    "finalparam = grid.best_params_\n",
    "print('\\033[1m' + 'Best Hyperparamters:' + \"\\033[0;0m\", grid.best_params_ )\n",
    "print('\\033[1m' + 'Best Score:' + \"\\033[0;0m\", grid.best_score_)"
   ]
  },
  {
   "cell_type": "markdown",
   "metadata": {},
   "source": [
    "## Using the best hyperparameters in building the final model.\n",
    "The final model is build by using the best parameters generated using gridsearch. Below is the summary of the model."
   ]
  },
  {
   "cell_type": "code",
   "execution_count": 223,
   "metadata": {},
   "outputs": [
    {
     "name": "stdout",
     "output_type": "stream",
     "text": [
      "\u001b[1mGOODNESS OF MODEL\u001b[0;0m\n",
      "\u001b[1mAccuracy :\u001b[0;0m 0.830122591943958\n",
      "**************************************************\n",
      "[0.81196581 0.88034188 0.83760684 0.85344828 0.87068966 0.86086957\n",
      " 0.86086957 0.82608696 0.82608696 0.87719298]\n",
      "**************************************************\n",
      "\u001b[1mcv Score:\u001b[0;0m 0.85 (+/- 0.05)\n",
      "**************************************************\n",
      "              precision    recall  f1-score   support\n",
      "\n",
      "           0       0.88      0.97      0.92       390\n",
      "           1       0.68      0.62      0.65       139\n",
      "           2       0.45      0.31      0.37        16\n",
      "           3       0.86      0.23      0.36        26\n",
      "\n",
      "    accuracy                           0.83       571\n",
      "   macro avg       0.72      0.53      0.58       571\n",
      "weighted avg       0.82      0.83      0.82       571\n",
      "\n",
      "**************************************************\n",
      "\u001b[1mConfusion Matrix\n",
      "\u001b[0;0m [[377  12   1   0]\n",
      " [ 49  86   4   0]\n",
      " [  0  10   5   1]\n",
      " [  0  19   1   6]]\n",
      "**************************************************\n",
      "\u001b[1mMatthews Corrcoef\u001b[0;0m 0.6161059659799563\n"
     ]
    }
   ],
   "source": [
    "classifier_N = MultinomialNB(alpha = finalparam['alpha'])\n",
    "classifier_N.fit(X_train_scaled, Y_train)\n",
    "print('\\033[1m' + \"GOODNESS OF MODEL\" + \"\\033[0;0m\")\n",
    "print('\\033[1m' + \"Accuracy :\" + \"\\033[0;0m\", accuracy_score(Y_test, classifier_N.predict(X_test_scaled)))\n",
    "print('*' * 50)\n",
    "print(cross_val_score(classifier_N, X_train_scaled, Y_train, cv=10, scoring = 'accuracy'))\n",
    "print('*' * 50)\n",
    "print('\\033[1m' + \"cv Score:\" + \"\\033[0;0m\"\" %0.2f (+/- %0.2f)\" % (cross_val_score(classifier_N,\n",
    "                                                                                   X_train_scaled, Y_train,\n",
    "                                                       cv=10, scoring = 'accuracy').mean(),\n",
    "                                       cross_val_score(classifier_N, X_train_scaled, Y_train,\n",
    "                                                       cv=10, scoring = 'accuracy').std() * 2))\n",
    "print('*' * 50)\n",
    "print(classification_report(Y_test, classifier_N.predict(X_test_scaled)))\n",
    "print('*' * 50)\n",
    "print('\\033[1m' + 'Confusion Matrix\\n' + \"\\033[0;0m\", confusion_matrix(Y_test, classifier_N.predict(X_test_scaled)))\n",
    "print('*' * 50)\n",
    "print('\\033[1m' + 'Matthews Corrcoef' + \"\\033[0;0m\", matthews_corrcoef(Y_test, classifier_N.predict(X_test_scaled)))"
   ]
  },
  {
   "cell_type": "markdown",
   "metadata": {},
   "source": [
    "# Comparing Accuracies for Numeric Data and Categorical Data for all Classifiers"
   ]
  },
  {
   "cell_type": "code",
   "execution_count": 231,
   "metadata": {},
   "outputs": [
    {
     "data": {
      "text/html": [
       "<div>\n",
       "<style scoped>\n",
       "    .dataframe tbody tr th:only-of-type {\n",
       "        vertical-align: middle;\n",
       "    }\n",
       "\n",
       "    .dataframe tbody tr th {\n",
       "        vertical-align: top;\n",
       "    }\n",
       "\n",
       "    .dataframe thead th {\n",
       "        text-align: right;\n",
       "    }\n",
       "</style>\n",
       "<table border=\"1\" class=\"dataframe\">\n",
       "  <thead>\n",
       "    <tr style=\"text-align: right;\">\n",
       "      <th></th>\n",
       "      <th>Accuracy for Numeric data</th>\n",
       "      <th>Accuracy for Categorical data</th>\n",
       "    </tr>\n",
       "  </thead>\n",
       "  <tbody>\n",
       "    <tr>\n",
       "      <th>Decision Tree</th>\n",
       "      <td>0.9859</td>\n",
       "      <td>0.9632</td>\n",
       "    </tr>\n",
       "    <tr>\n",
       "      <th>KNN</th>\n",
       "      <td>0.9562</td>\n",
       "      <td>0.9054</td>\n",
       "    </tr>\n",
       "    <tr>\n",
       "      <th>Logistic Regression</th>\n",
       "      <td>0.8371</td>\n",
       "      <td>0.8861</td>\n",
       "    </tr>\n",
       "    <tr>\n",
       "      <th>SVM</th>\n",
       "      <td>0.9877</td>\n",
       "      <td>0.9929</td>\n",
       "    </tr>\n",
       "    <tr>\n",
       "      <th>Multinomial NB</th>\n",
       "      <td>0.7180</td>\n",
       "      <td>0.8301</td>\n",
       "    </tr>\n",
       "  </tbody>\n",
       "</table>\n",
       "</div>"
      ],
      "text/plain": [
       "                     Accuracy for Numeric data  Accuracy for Categorical data\n",
       "Decision Tree                           0.9859                         0.9632\n",
       "KNN                                     0.9562                         0.9054\n",
       "Logistic Regression                     0.8371                         0.8861\n",
       "SVM                                     0.9877                         0.9929\n",
       "Multinomial NB                          0.7180                         0.8301"
      ]
     },
     "execution_count": 231,
     "metadata": {},
     "output_type": "execute_result"
    }
   ],
   "source": [
    "df1 = pd.DataFrame({\"Accuracy for Numeric data\":[0.9859,0.9562,0.8371,0.9877,0.7180],\n",
    "                    \"Accuracy for Categorical data\":[0.9632,0.9054,0.8861,0.9929,0.8301]})\n",
    "df1.index = ['Decision Tree', 'KNN', 'Logistic Regression', 'SVM', 'Multinomial NB']\n",
    "df1"
   ]
  },
  {
   "cell_type": "markdown",
   "metadata": {},
   "source": [
    "# Model Evalutaion - All Models\n",
    "The above table describes the \"Accuracy for Numeric data\" and \"Accuracy for Categorical data\" for all models i.e Decision Tree, KNN, Logistic Regression, SVM and Multinomial NB respectively. It cas be observed that for Numeric Data Multinomial NB and Logistic Regression has the lowest accuracy amongst all models. On the other hand Decision Tree, KNN and SVM has good accuracy with SVM having the highest accuracy. Thus SVM should be finalzed for the analysis.\n",
    "For Categorical Data Multinomial NB, Logistic Regression and KNN has the lowest accuracy amongst all models. On the other hand Decision Tree and SVM has good accuracy with SVM having the highest accuracy. Thus SVM should be finalzed for the analysis.\n",
    "Between Numeric Data and Categorial Data, Categorical Data should be opted while considering multiclass problem since it divides the data into categories rather considering value of one category higher than value of other category which happen in case of Numeric Data. It can also be observed that SVM when applied to Categorical Data gives the highest accuracy of 0.9929 which is very good for any prediction. "
   ]
  },
  {
   "cell_type": "code",
   "execution_count": null,
   "metadata": {},
   "outputs": [],
   "source": []
  }
 ],
 "metadata": {
  "kernelspec": {
   "display_name": "Python 3",
   "language": "python",
   "name": "python3"
  },
  "language_info": {
   "codemirror_mode": {
    "name": "ipython",
    "version": 3
   },
   "file_extension": ".py",
   "mimetype": "text/x-python",
   "name": "python",
   "nbconvert_exporter": "python",
   "pygments_lexer": "ipython3",
   "version": "3.7.4"
  }
 },
 "nbformat": 4,
 "nbformat_minor": 2
}
